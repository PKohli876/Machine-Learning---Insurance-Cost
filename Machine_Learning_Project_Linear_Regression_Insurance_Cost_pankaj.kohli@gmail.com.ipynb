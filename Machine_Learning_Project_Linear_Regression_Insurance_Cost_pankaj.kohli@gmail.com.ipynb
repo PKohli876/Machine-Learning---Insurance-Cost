{
  "nbformat": 4,
  "nbformat_minor": 0,
  "metadata": {
    "colab": {
      "name": "Machine Learning Project - Linear Regression - Insurance Cost",
      "provenance": [],
      "collapsed_sections": []
    },
    "kernelspec": {
      "name": "python3",
      "display_name": "Python 3"
    }
  },
  "cells": [
    {
      "cell_type": "markdown",
      "metadata": {
        "id": "3he7sme_MjRQ"
      },
      "source": [
        "Machine learning (ML) is the study of computer algorithms that improve automatically through experience.Machine learning algorithms build a model based on sample data, known as \"training data\", in order to make predictions or decisions without being explicitly programmed to do so. We would build a model to preict insurance charges for a person based on his age, body paramaters, family members etc. We would use public open source dataset and build a model around 80% of data and test our model from remaining 20%. We will build seevral models and compare them using standrad metrics that will help us choose the best one among them.\r\n",
        "---"
      ]
    },
    {
      "cell_type": "code",
      "metadata": {
        "colab": {
          "base_uri": "https://localhost:8080/",
          "height": 204
        },
        "id": "UD6JFrDTObmC",
        "outputId": "9ee0978d-7e3e-4411-ebb5-676ba2c84e59"
      },
      "source": [
        "\r\n",
        "#Step1 : Load Numpy and Panda\r\n",
        "import numpy as np\r\n",
        "import pandas as pd\r\n",
        "\r\n",
        "#Step2 : Load Dataset\r\n",
        "insurance_cost_df = pd.read_csv(\"https://raw.githubusercontent.com/PKohli876/Machine-Learning---Insurance-Cost/main/INSAID%20Project%20-%20ML%20-Insurance%20Cost%20Data_pankaj.kohli%40gmail.com.csv\")\r\n",
        "insurance_cost_df.head()"
      ],
      "execution_count": 67,
      "outputs": [
        {
          "output_type": "execute_result",
          "data": {
            "text/html": [
              "<div>\n",
              "<style scoped>\n",
              "    .dataframe tbody tr th:only-of-type {\n",
              "        vertical-align: middle;\n",
              "    }\n",
              "\n",
              "    .dataframe tbody tr th {\n",
              "        vertical-align: top;\n",
              "    }\n",
              "\n",
              "    .dataframe thead th {\n",
              "        text-align: right;\n",
              "    }\n",
              "</style>\n",
              "<table border=\"1\" class=\"dataframe\">\n",
              "  <thead>\n",
              "    <tr style=\"text-align: right;\">\n",
              "      <th></th>\n",
              "      <th>age</th>\n",
              "      <th>sex</th>\n",
              "      <th>bmi</th>\n",
              "      <th>children</th>\n",
              "      <th>smoker</th>\n",
              "      <th>region</th>\n",
              "      <th>charges</th>\n",
              "    </tr>\n",
              "  </thead>\n",
              "  <tbody>\n",
              "    <tr>\n",
              "      <th>0</th>\n",
              "      <td>19</td>\n",
              "      <td>female</td>\n",
              "      <td>27.900</td>\n",
              "      <td>0</td>\n",
              "      <td>yes</td>\n",
              "      <td>southwest</td>\n",
              "      <td>16884.92400</td>\n",
              "    </tr>\n",
              "    <tr>\n",
              "      <th>1</th>\n",
              "      <td>18</td>\n",
              "      <td>male</td>\n",
              "      <td>33.770</td>\n",
              "      <td>1</td>\n",
              "      <td>no</td>\n",
              "      <td>southeast</td>\n",
              "      <td>1725.55230</td>\n",
              "    </tr>\n",
              "    <tr>\n",
              "      <th>2</th>\n",
              "      <td>28</td>\n",
              "      <td>male</td>\n",
              "      <td>33.000</td>\n",
              "      <td>3</td>\n",
              "      <td>no</td>\n",
              "      <td>southeast</td>\n",
              "      <td>4449.46200</td>\n",
              "    </tr>\n",
              "    <tr>\n",
              "      <th>3</th>\n",
              "      <td>33</td>\n",
              "      <td>male</td>\n",
              "      <td>22.705</td>\n",
              "      <td>0</td>\n",
              "      <td>no</td>\n",
              "      <td>northwest</td>\n",
              "      <td>21984.47061</td>\n",
              "    </tr>\n",
              "    <tr>\n",
              "      <th>4</th>\n",
              "      <td>32</td>\n",
              "      <td>male</td>\n",
              "      <td>28.880</td>\n",
              "      <td>0</td>\n",
              "      <td>no</td>\n",
              "      <td>northwest</td>\n",
              "      <td>3866.85520</td>\n",
              "    </tr>\n",
              "  </tbody>\n",
              "</table>\n",
              "</div>"
            ],
            "text/plain": [
              "   age     sex     bmi  children smoker     region      charges\n",
              "0   19  female  27.900         0    yes  southwest  16884.92400\n",
              "1   18    male  33.770         1     no  southeast   1725.55230\n",
              "2   28    male  33.000         3     no  southeast   4449.46200\n",
              "3   33    male  22.705         0     no  northwest  21984.47061\n",
              "4   32    male  28.880         0     no  northwest   3866.85520"
            ]
          },
          "metadata": {
            "tags": []
          },
          "execution_count": 67
        }
      ]
    },
    {
      "cell_type": "code",
      "metadata": {
        "colab": {
          "base_uri": "https://localhost:8080/"
        },
        "id": "JUMF6gm_WbXd",
        "outputId": "cc50e080-76fc-406e-ed22-53bd6838b6a5"
      },
      "source": [
        "#Step 3 : Clean Data\r\n",
        "#Step 3 a) Catagorize catagorical columns, use One Hot Encoding to get encoded forms\r\n",
        "catagorical_features = ['sex','smoker']\r\n",
        "insurance_cost_df = pd.get_dummies(insurance_cost_df, columns= catagorical_features)\r\n",
        "print(insurance_cost_df)\r\n",
        "\r\n",
        "#Step 3 b) drop Columns not requried in model\r\n",
        "drop_columns = ['region']\r\n",
        "insurance_cost_df = insurance_cost_df.drop(drop_columns,axis=1)\r\n",
        "print(insurance_cost_df)\r\n"
      ],
      "execution_count": 68,
      "outputs": [
        {
          "output_type": "stream",
          "text": [
            "      age     bmi  children  ... sex_male  smoker_no  smoker_yes\n",
            "0      19  27.900         0  ...        0          0           1\n",
            "1      18  33.770         1  ...        1          1           0\n",
            "2      28  33.000         3  ...        1          1           0\n",
            "3      33  22.705         0  ...        1          1           0\n",
            "4      32  28.880         0  ...        1          1           0\n",
            "...   ...     ...       ...  ...      ...        ...         ...\n",
            "1333   50  30.970         3  ...        1          1           0\n",
            "1334   18  31.920         0  ...        0          1           0\n",
            "1335   18  36.850         0  ...        0          1           0\n",
            "1336   21  25.800         0  ...        0          1           0\n",
            "1337   61  29.070         0  ...        0          0           1\n",
            "\n",
            "[1338 rows x 9 columns]\n",
            "      age     bmi  children  ...  sex_male  smoker_no  smoker_yes\n",
            "0      19  27.900         0  ...         0          0           1\n",
            "1      18  33.770         1  ...         1          1           0\n",
            "2      28  33.000         3  ...         1          1           0\n",
            "3      33  22.705         0  ...         1          1           0\n",
            "4      32  28.880         0  ...         1          1           0\n",
            "...   ...     ...       ...  ...       ...        ...         ...\n",
            "1333   50  30.970         3  ...         1          1           0\n",
            "1334   18  31.920         0  ...         0          1           0\n",
            "1335   18  36.850         0  ...         0          1           0\n",
            "1336   21  25.800         0  ...         0          1           0\n",
            "1337   61  29.070         0  ...         0          0           1\n",
            "\n",
            "[1338 rows x 8 columns]\n"
          ],
          "name": "stdout"
        }
      ]
    },
    {
      "cell_type": "code",
      "metadata": {
        "id": "PbIeq974Wd4n"
      },
      "source": [
        ""
      ],
      "execution_count": 68,
      "outputs": []
    },
    {
      "cell_type": "code",
      "metadata": {
        "colab": {
          "base_uri": "https://localhost:8080/",
          "height": 204
        },
        "id": "O2rVMpqJUEgI",
        "outputId": "6ef94962-d22e-4545-bdc6-3394e4298f76"
      },
      "source": [
        "\r\n",
        "\r\n",
        "\r\n",
        "#Step4 : Crate dataset X with list of independent variable\r\n",
        "X = insurance_cost_df.loc[:,insurance_cost_df.columns != 'charges']\r\n",
        "X.head()"
      ],
      "execution_count": 69,
      "outputs": [
        {
          "output_type": "execute_result",
          "data": {
            "text/html": [
              "<div>\n",
              "<style scoped>\n",
              "    .dataframe tbody tr th:only-of-type {\n",
              "        vertical-align: middle;\n",
              "    }\n",
              "\n",
              "    .dataframe tbody tr th {\n",
              "        vertical-align: top;\n",
              "    }\n",
              "\n",
              "    .dataframe thead th {\n",
              "        text-align: right;\n",
              "    }\n",
              "</style>\n",
              "<table border=\"1\" class=\"dataframe\">\n",
              "  <thead>\n",
              "    <tr style=\"text-align: right;\">\n",
              "      <th></th>\n",
              "      <th>age</th>\n",
              "      <th>bmi</th>\n",
              "      <th>children</th>\n",
              "      <th>sex_female</th>\n",
              "      <th>sex_male</th>\n",
              "      <th>smoker_no</th>\n",
              "      <th>smoker_yes</th>\n",
              "    </tr>\n",
              "  </thead>\n",
              "  <tbody>\n",
              "    <tr>\n",
              "      <th>0</th>\n",
              "      <td>19</td>\n",
              "      <td>27.900</td>\n",
              "      <td>0</td>\n",
              "      <td>1</td>\n",
              "      <td>0</td>\n",
              "      <td>0</td>\n",
              "      <td>1</td>\n",
              "    </tr>\n",
              "    <tr>\n",
              "      <th>1</th>\n",
              "      <td>18</td>\n",
              "      <td>33.770</td>\n",
              "      <td>1</td>\n",
              "      <td>0</td>\n",
              "      <td>1</td>\n",
              "      <td>1</td>\n",
              "      <td>0</td>\n",
              "    </tr>\n",
              "    <tr>\n",
              "      <th>2</th>\n",
              "      <td>28</td>\n",
              "      <td>33.000</td>\n",
              "      <td>3</td>\n",
              "      <td>0</td>\n",
              "      <td>1</td>\n",
              "      <td>1</td>\n",
              "      <td>0</td>\n",
              "    </tr>\n",
              "    <tr>\n",
              "      <th>3</th>\n",
              "      <td>33</td>\n",
              "      <td>22.705</td>\n",
              "      <td>0</td>\n",
              "      <td>0</td>\n",
              "      <td>1</td>\n",
              "      <td>1</td>\n",
              "      <td>0</td>\n",
              "    </tr>\n",
              "    <tr>\n",
              "      <th>4</th>\n",
              "      <td>32</td>\n",
              "      <td>28.880</td>\n",
              "      <td>0</td>\n",
              "      <td>0</td>\n",
              "      <td>1</td>\n",
              "      <td>1</td>\n",
              "      <td>0</td>\n",
              "    </tr>\n",
              "  </tbody>\n",
              "</table>\n",
              "</div>"
            ],
            "text/plain": [
              "   age     bmi  children  sex_female  sex_male  smoker_no  smoker_yes\n",
              "0   19  27.900         0           1         0          0           1\n",
              "1   18  33.770         1           0         1          1           0\n",
              "2   28  33.000         3           0         1          1           0\n",
              "3   33  22.705         0           0         1          1           0\n",
              "4   32  28.880         0           0         1          1           0"
            ]
          },
          "metadata": {
            "tags": []
          },
          "execution_count": 69
        }
      ]
    },
    {
      "cell_type": "code",
      "metadata": {
        "id": "NM-9_tULVSWW"
      },
      "source": [
        "#Step 5 : Crate dataset Y with Dependent or target variable\r\n",
        "Y = insurance_cost_df.charges"
      ],
      "execution_count": 70,
      "outputs": []
    },
    {
      "cell_type": "code",
      "metadata": {
        "colab": {
          "base_uri": "https://localhost:8080/"
        },
        "id": "Ll2kQiVRVcKl",
        "outputId": "4229114d-3097-4089-bf22-71c6d04a81d9"
      },
      "source": [
        "#Step 6: Spilt X and Y into training and test dataset\r\n",
        "from sklearn.model_selection import train_test_split\r\n",
        "X_train, X_test, Y_train, Y_test = train_test_split(X, Y, test_size=0.2, random_state=1)\r\n",
        "print(X_train)\r\n",
        "print(X_test)\r\n",
        "print(Y_train)\r\n",
        "print(Y_test)"
      ],
      "execution_count": 71,
      "outputs": [
        {
          "output_type": "stream",
          "text": [
            "      age     bmi  children  sex_female  sex_male  smoker_no  smoker_yes\n",
            "216    53  26.600         0           1         0          1           0\n",
            "731    53  21.400         1           0         1          1           0\n",
            "866    18  37.290         0           0         1          1           0\n",
            "202    60  24.035         0           1         0          1           0\n",
            "820    45  33.700         1           0         1          1           0\n",
            "...   ...     ...       ...         ...       ...        ...         ...\n",
            "715    60  28.900         0           0         1          1           0\n",
            "905    26  29.355         2           1         0          1           0\n",
            "1096   51  34.960         2           1         0          0           1\n",
            "235    40  22.220         2           1         0          0           1\n",
            "1061   57  27.940         1           0         1          1           0\n",
            "\n",
            "[1070 rows x 7 columns]\n",
            "      age     bmi  children  sex_female  sex_male  smoker_no  smoker_yes\n",
            "559    19  35.530         0           0         1          1           0\n",
            "1087   57  31.540         0           0         1          1           0\n",
            "1020   51  37.000         0           0         1          1           0\n",
            "460    49  36.630         3           1         0          1           0\n",
            "802    21  22.300         1           0         1          1           0\n",
            "...   ...     ...       ...         ...       ...        ...         ...\n",
            "682    39  35.300         2           0         1          0           1\n",
            "629    44  38.950         0           1         0          0           1\n",
            "893    47  38.940         2           0         1          0           1\n",
            "807    19  36.575         0           1         0          1           0\n",
            "1165   35  26.125         0           1         0          1           0\n",
            "\n",
            "[268 rows x 7 columns]\n",
            "216     10355.64100\n",
            "731     10065.41300\n",
            "866      1141.44510\n",
            "202     13012.20865\n",
            "820      7445.91800\n",
            "           ...     \n",
            "715     12146.97100\n",
            "905      4564.19145\n",
            "1096    44641.19740\n",
            "235     19444.26580\n",
            "1061    11554.22360\n",
            "Name: charges, Length: 1070, dtype: float64\n",
            "559      1646.42970\n",
            "1087    11353.22760\n",
            "1020     8798.59300\n",
            "460     10381.47870\n",
            "802      2103.08000\n",
            "           ...     \n",
            "682     40103.89000\n",
            "629     42983.45850\n",
            "893     44202.65360\n",
            "807      2136.88225\n",
            "1165     5227.98875\n",
            "Name: charges, Length: 268, dtype: float64\n"
          ],
          "name": "stdout"
        }
      ]
    },
    {
      "cell_type": "code",
      "metadata": {
        "colab": {
          "base_uri": "https://localhost:8080/"
        },
        "id": "maH-TaSOVuPd",
        "outputId": "d2490bde-d2db-49a5-c8e3-5f826d602e64"
      },
      "source": [
        "\r\n",
        "#Step 7: Create and fit model\r\n",
        "from sklearn.linear_model import LinearRegression\r\n",
        "logreg = LinearRegression()\r\n",
        "model = logreg.fit(X_train,Y_train)\r\n",
        "print(model)"
      ],
      "execution_count": 72,
      "outputs": [
        {
          "output_type": "stream",
          "text": [
            "LinearRegression(copy_X=True, fit_intercept=True, n_jobs=None, normalize=False)\n"
          ],
          "name": "stdout"
        }
      ]
    },
    {
      "cell_type": "code",
      "metadata": {
        "colab": {
          "base_uri": "https://localhost:8080/"
        },
        "id": "QTQ1RK42XHmA",
        "outputId": "f5b5e597-8d85-45de-d3a4-6d19299b4029"
      },
      "source": [
        "#Step 8: Predict Test Model\r\n",
        "y_pred_test = logreg.predict(X_test) \r\n",
        "print(y_pred_test)"
      ],
      "execution_count": 73,
      "outputs": [
        {
          "output_type": "stream",
          "text": [
            "[ 4100.43282559 12693.04261163 12808.93825952 13634.43104889\n",
            "   989.14106269 31836.69901918 13260.4556974  11773.1368127\n",
            "  3269.04728479 29967.12306097 11566.2943743  17589.21131852\n",
            "  9102.82060306  8688.8759399   3506.91786571 10773.56765472\n",
            "  3804.09391255  7297.86635221 15369.94892684 14725.96903573\n",
            " 11923.73189064 33235.48924194  8931.10636446  9379.93704037\n",
            "  2427.44626748  8013.19788493  9023.14928342 11151.71675937\n",
            "  7960.88342028  3869.66401139 14376.0228159   6184.02836295\n",
            " 34160.18316202 26767.56074434 33857.35566434  9459.19016445\n",
            " 30637.57582122 27011.99400001 15477.04190131 33686.87698538\n",
            "  6700.69819635 13820.11681384 11209.52515213 15310.65265643\n",
            "  4609.12743162 12569.54322362  4697.63805101 29017.60068768\n",
            "  7267.38694039 13713.78648559 13734.72880029 12664.19925768\n",
            "  1770.5265761   9269.43300796 25525.26931937 10341.82186649\n",
            " 34612.49992145 14788.99219801  2734.60538629  6122.88260813\n",
            "  6917.91452046 14333.83960668 27396.60351579  3109.86305472\n",
            " 15118.43194701 11007.69236576 10977.46349579 11030.34611237\n",
            "  1411.77812607 24818.61076564 37286.49582244 32390.16044631\n",
            "  2315.1385725  11258.79115005 13520.28262178 34295.81250355\n",
            "  3048.15922993  4367.65881582 10768.52098213 10312.50426942\n",
            "  -447.05300041 13833.45622588 10246.292815    3491.63624637\n",
            " 32855.22108403 33281.27805239  7560.7792561  37918.90338677\n",
            " 12226.71774852 10074.74489717 29946.30119946 33504.18408282\n",
            " 15164.56520812 11222.48304395   161.24116218 11032.42770185\n",
            " 10036.43853621 15303.53279817 14693.47204256  5600.50660601\n",
            " 13446.12337081 25941.26907665 28532.70310823 27645.64681172\n",
            " 35897.08611278 26935.57675682  1034.5963909   9593.01668087\n",
            "  5021.18554081 11891.54232759  5827.39016816  5245.36420044\n",
            "   943.28656594 18443.64933123  3132.50622712  2018.02732551\n",
            " 11839.65397007 12508.38901599 11129.62054149  3494.04424398\n",
            "  9311.17909263 13239.89406547  8171.6022637   7036.36630041\n",
            " 37091.20766828 12429.76711652 11748.64317142 29829.47525164\n",
            " 36329.41735279 11844.7760657  28414.99460226    46.02393943\n",
            "  7707.28485096 31955.32774311  8652.2885772   -215.45669114\n",
            "  1059.14514428  4916.88124672  7612.41573884 11888.04704857\n",
            " 14277.77927216  9080.11169534 29433.49808333 16086.78682299\n",
            " 14086.49721747 10989.22245429  2370.31580763 10340.64141895\n",
            "  4147.83031209  6087.81169082 11731.32504174  5300.40205339\n",
            " 14275.56670431 13079.73411112 12994.94030163  7406.32542147\n",
            " 11782.09695986 10391.79401983  9737.66389528  4788.44545934\n",
            "  6104.4964745  40732.57303323 13500.62262402  4627.47605246\n",
            "  8186.64213922  5019.15866921 32562.04228961 11611.33946754\n",
            " 11347.81387381  6349.75771747  6757.58646916  6428.06249908\n",
            " 32669.00552063 34809.16430137  2114.87739264  7127.3506037\n",
            "  5438.50463559 14924.56632942  1098.56789565 11660.21514396\n",
            " 12888.15431405 11065.25065991 10371.69778398 12446.65746092\n",
            "  2323.36513342 27988.09160406  2830.38582032 14955.37131191\n",
            "  6290.90781612 10014.32378355 14769.59198661 39110.62707564\n",
            "  2585.05043825  1382.81348149  5158.39612758  8044.85897922\n",
            "  8370.7015308   4220.70729513 10596.47059867  9431.76895286\n",
            "  9783.09011451 11306.50451948 10769.44110208  9639.42875535\n",
            "  7905.62147185  1395.39024731  9492.94169527  7829.08333225\n",
            "  5864.72920865 12063.28523194  4858.87781844 33430.21097133\n",
            "  6436.39977643  6550.2976617   8167.86479764 39243.02304589\n",
            " 11394.72747846 28722.13562952  3272.15179908 33508.81260886\n",
            "  3088.5392198  32184.24737237 13601.73906921  2315.13808027\n",
            "  1754.29661429  1692.77937221  5925.47579493  4719.68751159\n",
            " 25899.98838807 16096.95603444  5085.8354707  13532.73893442\n",
            " 39187.87230613  4387.17982562 12156.05377657 11676.75164941\n",
            " 27696.66042465  2594.27130723 12663.77098016  6185.43197052\n",
            " 15389.9984544   6060.20394552 16248.01645945  4317.8908445\n",
            " 12621.91373583 34187.27885196 11040.88631884 10894.22325025\n",
            "  5285.38115587 16440.61785164 14098.59054466  4968.4149246\n",
            " 11699.07943113 12908.42744486  4053.63962511  6414.37947384\n",
            " 27001.82483757 31672.08654729  -504.94566325 39612.84278477\n",
            "  9858.25375551  7634.11056878 11075.13141925 33773.08236303\n",
            " 35600.4491089  36947.96450468  4655.17696389  5599.22389484]\n"
          ],
          "name": "stdout"
        }
      ]
    },
    {
      "cell_type": "code",
      "metadata": {
        "colab": {
          "base_uri": "https://localhost:8080/"
        },
        "id": "Y4WKuCFmXT16",
        "outputId": "cbe5725e-222c-4553-9c27-383c4b9878f2"
      },
      "source": [
        "#Step 9: Evaluate Model\r\n",
        "#Step 9 a: Calculate R-Score\r\n",
        "from sklearn.metrics import r2_score\r\n",
        "r2_score_test = r2_score(Y_test,y_pred_test)\r\n",
        "print('R2 Score for test data is:', r2_score_test)\r\n",
        "#Step 9 b: Calculate adjusted R-score\r\n",
        "SS_Residual = sum((Y_test-y_pred_test)**2)    \r\n",
        "SS_Total = sum((Y_test-np.mean(Y_test))**2)     \r\n",
        "r_squared = 1 - (float(SS_Residual))/SS_Total\r\n",
        "adjusted_r_squared = 1 - (1-r_squared)*(len(Y_test)-1)/(len(Y_test)- X_test.shape[1]-1)\r\n",
        "print(r_squared, adjusted_r_squared)"
      ],
      "execution_count": 74,
      "outputs": [
        {
          "output_type": "stream",
          "text": [
            "R2 Score for test data is: 0.7608581750738531\n",
            "0.7608581750738532 0.7544197413258416\n"
          ],
          "name": "stdout"
        }
      ]
    },
    {
      "cell_type": "code",
      "metadata": {
        "colab": {
          "base_uri": "https://localhost:8080/"
        },
        "id": "FXsOHPZKa31d",
        "outputId": "a113b518-5611-4a63-dfe0-cb73befbba26"
      },
      "source": [
        "#Step 10 : Use Model to predict train data and compare the r2 score\r\n",
        "y_pred_train = logreg.predict(X_train) \r\n",
        "print(y_pred_train)\r\n",
        "r2_score_train = r2_score(Y_train,y_pred_train)\r\n",
        "print('R2 Score for train data is:', r2_score_train)\r\n",
        "SS_Residual_train = sum((Y_train-y_pred_train)**2)    \r\n",
        "SS_Total_train = sum((Y_train-np.mean(Y_train))**2)     \r\n",
        "r_squared_train = 1 - (float(SS_Residual_train))/SS_Total_train\r\n",
        "adjusted_r_squared_train = 1 - (1-r_squared_train)*(len(Y_train)-1)/(len(Y_train)- X_train.shape[1]-1)\r\n",
        "print(r_squared_train, adjusted_r_squared_train)"
      ],
      "execution_count": 75,
      "outputs": [
        {
          "output_type": "stream",
          "text": [
            "[10390.47468234  8975.054837    4378.90611318 ... 37003.17084878\n",
            " 30279.37605289 12001.58140715]\n",
            "R2 Score for train data is: 0.7466601137582649\n",
            "0.7466601137582648 0.7449902651672176\n"
          ],
          "name": "stdout"
        }
      ]
    },
    {
      "cell_type": "code",
      "metadata": {
        "colab": {
          "base_uri": "https://localhost:8080/"
        },
        "id": "KFV_vzXdjb9m",
        "outputId": "573232f4-d36b-4ef6-abcc-f8d53fbf3b10"
      },
      "source": [
        "#Step 11: Improve model to increase r2 score\r\n",
        "logreg_2 = LinearRegression()\r\n",
        "model2 = logreg_2.fit(X_train,Y_train,sample_weight=100)\r\n",
        "model2_train_score = model2.score(X_train,Y_train)\r\n",
        "model2_test_score = model2.score(X_test,Y_test)\r\n",
        "print(model2_train_score, model2_test_score)"
      ],
      "execution_count": 76,
      "outputs": [
        {
          "output_type": "stream",
          "text": [
            "0.7466601137582649 0.7608581750738531\n"
          ],
          "name": "stdout"
        }
      ]
    }
  ]
}